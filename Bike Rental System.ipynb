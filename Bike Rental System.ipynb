{
 "cells": [
  {
   "cell_type": "code",
   "execution_count": null,
   "id": "88b44451",
   "metadata": {},
   "outputs": [
    {
     "name": "stdout",
     "output_type": "stream",
     "text": [
      "\n",
      "    1. Display stock\n",
      "    2. Rent a bike\n",
      "    3. Exit1\n",
      "Total Bikes 100\n",
      "\n",
      "    1. Display stock\n",
      "    2. Rent a bike\n",
      "    3. Exit2\n",
      "Enter the quantity:--1\n",
      "Total price 100\n",
      "Total bikes 99\n"
     ]
    }
   ],
   "source": [
    "class bikeShop:\n",
    "    \n",
    "    def __init__(self,stock):\n",
    "        self.stock=stock\n",
    "    \n",
    "    def displayBike(self):\n",
    "        print('Total Bikes',self.stock)\n",
    "    \n",
    "    def bikeForRent(self,quantity):\n",
    "        if quantity<=0:\n",
    "            print('Enter the positive value or greater than zero')\n",
    "        elif quantity>self.stock:\n",
    "            print('Enter the value less than Stock')\n",
    "        else:\n",
    "            self.stock=self.stock-quantity\n",
    "            print('Total price',quantity*100)\n",
    "            print('Total bikes',self.stock)\n",
    "            \n",
    "while True:\n",
    "    obj=bikeShop(100)\n",
    "    userchoice=int(input('''\n",
    "    1. Display stock\n",
    "    2. Rent a bike\n",
    "    3. Exit'''))\n",
    "            \n",
    "    if userchoice==1:\n",
    "        obj.displayBike()\n",
    "    elif userchoice==2:\n",
    "        n=int(input('Enter the quantity:--'))\n",
    "        obj.bikeForRent(n)\n",
    "    else:\n",
    "        break\n",
    "            \n",
    "            "
   ]
  },
  {
   "cell_type": "code",
   "execution_count": null,
   "id": "07dbfbe0",
   "metadata": {},
   "outputs": [],
   "source": []
  }
 ],
 "metadata": {
  "kernelspec": {
   "display_name": "Python 3 (ipykernel)",
   "language": "python",
   "name": "python3"
  },
  "language_info": {
   "codemirror_mode": {
    "name": "ipython",
    "version": 3
   },
   "file_extension": ".py",
   "mimetype": "text/x-python",
   "name": "python",
   "nbconvert_exporter": "python",
   "pygments_lexer": "ipython3",
   "version": "3.10.2"
  }
 },
 "nbformat": 4,
 "nbformat_minor": 5
}
